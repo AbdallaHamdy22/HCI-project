{
 "cells": [
  {
   "cell_type": "code",
   "execution_count": 11,
   "metadata": {},
   "outputs": [
    {
     "name": "stdout",
     "output_type": "stream",
     "text": [
      "\n",
      "0: 384x640 1 Squatting-Bad, 1 Squatting-Good, 162.8ms\n",
      "Speed: 1.0ms preprocess, 162.8ms inference, 0.0ms postprocess per image at shape (1, 3, 384, 640)\n",
      "\n",
      "0: 384x640 1 Squatting-Bad, 1 Squatting-Good, 171.6ms\n",
      "Speed: 2.1ms preprocess, 171.6ms inference, 1.0ms postprocess per image at shape (1, 3, 384, 640)\n",
      "\n",
      "0: 384x640 1 Squatting-Bad, 1 Squatting-Good, 177.1ms\n",
      "Speed: 2.3ms preprocess, 177.1ms inference, 0.0ms postprocess per image at shape (1, 3, 384, 640)\n",
      "\n",
      "0: 384x640 1 Squatting-Bad, 1 Squatting-Good, 179.9ms\n",
      "Speed: 1.0ms preprocess, 179.9ms inference, 1.0ms postprocess per image at shape (1, 3, 384, 640)\n",
      "\n",
      "0: 384x640 1 Squatting-Bad, 1 Squatting-Good, 175.0ms\n",
      "Speed: 1.2ms preprocess, 175.0ms inference, 0.0ms postprocess per image at shape (1, 3, 384, 640)\n",
      "\n",
      "0: 384x640 1 Squatting-Bad, 1 Squatting-Good, 182.6ms\n",
      "Speed: 1.0ms preprocess, 182.6ms inference, 1.0ms postprocess per image at shape (1, 3, 384, 640)\n",
      "\n",
      "0: 384x640 1 Squatting-Bad, 1 Squatting-Good, 180.2ms\n",
      "Speed: 1.0ms preprocess, 180.2ms inference, 1.0ms postprocess per image at shape (1, 3, 384, 640)\n",
      "\n",
      "0: 384x640 1 Squatting-Bad, 1 Squatting-Good, 185.6ms\n",
      "Speed: 1.0ms preprocess, 185.6ms inference, 0.0ms postprocess per image at shape (1, 3, 384, 640)\n",
      "\n",
      "0: 384x640 1 Squatting-Bad, 1 Squatting-Good, 190.8ms\n",
      "Speed: 1.0ms preprocess, 190.8ms inference, 1.0ms postprocess per image at shape (1, 3, 384, 640)\n",
      "\n",
      "0: 384x640 1 Squatting-Bad, 1 Squatting-Good, 196.5ms\n",
      "Speed: 1.2ms preprocess, 196.5ms inference, 1.0ms postprocess per image at shape (1, 3, 384, 640)\n",
      "\n",
      "0: 384x640 1 Squatting-Bad, 1 Squatting-Good, 188.5ms\n",
      "Speed: 2.0ms preprocess, 188.5ms inference, 1.0ms postprocess per image at shape (1, 3, 384, 640)\n",
      "\n",
      "0: 384x640 1 Squatting-Bad, 1 Squatting-Good, 187.8ms\n",
      "Speed: 1.0ms preprocess, 187.8ms inference, 1.0ms postprocess per image at shape (1, 3, 384, 640)\n",
      "\n",
      "0: 384x640 1 Squatting-Bad, 1 Squatting-Good, 174.5ms\n",
      "Speed: 1.0ms preprocess, 174.5ms inference, 1.0ms postprocess per image at shape (1, 3, 384, 640)\n"
     ]
    }
   ],
   "source": [
    "import cv2\n",
    "from ultralytics import YOLO\n",
    "\n",
    "# Load the YOLOv8 model\n",
    "model = YOLO(\"C:/Users/samys/Downloads/best.pt\")\n",
    "\n",
    "# Open the video file\n",
    "video_path = r\"C:\\Users\\samys\\Downloads\\Videos-20231215T132855Z-001\\Videos\\Squatting-Good-3.mp4\"\n",
    "cap = cv2.VideoCapture(video_path)\n",
    "\n",
    "# Loop through the video frames\n",
    "while cap.isOpened():\n",
    "    # Read a frame from the video\n",
    "    success, frame = cap.read()\n",
    "\n",
    "    if success:\n",
    "        # Run YOLOv8 inference on the frame\n",
    "        results = model(frame)\n",
    "\n",
    "        # Visualize the results on the frame\n",
    "        annotated_frame = results[0].plot()\n",
    "\n",
    "        # Display the annotated frame\n",
    "        cv2.imshow(\"YOLOv8 Inference\", annotated_frame)\n",
    "\n",
    "        # Break the loop if 'q' is pressed\n",
    "        if cv2.waitKey(1) & 0xFF == ord(\"q\"):\n",
    "            break\n",
    "    else:\n",
    "        # Break the loop if the end of the video is reached\n",
    "        break\n",
    "\n",
    "# Release the video capture object and close the display window\n",
    "cap.release()\n",
    "cv2.destroyAllWindows()"
   ]
  }
 ],
 "metadata": {
  "kernelspec": {
   "display_name": "Python 3",
   "language": "python",
   "name": "python3"
  },
  "language_info": {
   "codemirror_mode": {
    "name": "ipython",
    "version": 3
   },
   "file_extension": ".py",
   "mimetype": "text/x-python",
   "name": "python",
   "nbconvert_exporter": "python",
   "pygments_lexer": "ipython3",
   "version": "3.9.13"
  }
 },
 "nbformat": 4,
 "nbformat_minor": 2
}
